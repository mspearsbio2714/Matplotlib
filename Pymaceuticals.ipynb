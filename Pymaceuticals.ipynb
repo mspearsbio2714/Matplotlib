{
 "cells": [
  {
   "cell_type": "code",
   "execution_count": null,
   "metadata": {},
   "outputs": [],
   "source": [
    "#import dependencies\n",
    "%matplotlib inline\n",
    "import matplotlib.pyplot as plt\n",
    "import pandas as pd\n",
    "import numpy as np\n",
    "from scipy import stats\n",
    "\n",
    "#hide warning messages\n",
    "import warnings\n",
    "warnings.filterwarnings('ignore')\n",
    "\n",
    "#read csv data\n",
    "mouse_drug_data = pd.read_csv(\"Resources/mouse_drug_data.csv\")\n",
    "clinical_trial_data = pd.read_csv(\"Resources/clinicaltrial_data.csv\")"
   ]
  },
  {
   "cell_type": "markdown",
   "metadata": {},
   "source": [
    "# Clean and Combine"
   ]
  },
  {
   "cell_type": "code",
   "execution_count": null,
   "metadata": {},
   "outputs": [],
   "source": [
    "#check Mouse ID column\n",
    "mouse_drug_data[\"Mouse ID\"].value_counts() #g989 has 2 entries, maximum of 1\n",
    "clinical_trial_data[\"Mouse ID\"].value_counts() #g989 has 13 entries, maximum of 10\n",
    "\n",
    "#locate the g989 rows in the drug data\n",
    "g989Drug = mouse_drug_data.loc[mouse_drug_data[\"Mouse ID\"] == \"g989\", :]\n",
    "g989Drug #each g989 has a diffrent drug: stelasyn, propriva\n",
    "\n",
    "#locate the g989 rows in the clinical data\n",
    "g989Trial = clinical_trial_data.loc[clinical_trial_data[\"Mouse ID\"] == \"g989\", :]\n",
    "g989Trial #g989 has 2 simultaneous timelines, unable to parse which timeline corresponds to which drug\n",
    "\n",
    "#remove g989 data from both data sets\n",
    "clean_mouse_drug_data = mouse_drug_data.loc[mouse_drug_data[\"Mouse ID\"] != \"g989\", :]\n",
    "clean_clinical_trial_data = clinical_trial_data.loc[clinical_trial_data[\"Mouse ID\"] != \"g989\", :]\n",
    "\n",
    "#merge data tables\n",
    "drugData = pd.merge(clean_mouse_drug_data, clean_clinical_trial_data, on=\"Mouse ID\", how=\"outer\")\n",
    "drugData.head(15)"
   ]
  },
  {
   "cell_type": "markdown",
   "metadata": {},
   "source": [
    "# Tumor Response to Treatment"
   ]
  },
  {
   "cell_type": "code",
   "execution_count": null,
   "metadata": {},
   "outputs": [],
   "source": [
    "#group data by drug and timepoint \n",
    "groupedDrugData = drugData.groupby([\"Drug\", \"Timepoint\"])\n",
    "\n",
    "#find avg tumor volume and metastic sites for each drug at each timepoint\n",
    "drugAvgs = groupedDrugData.mean()\n",
    "drugAvgs.head(15)"
   ]
  },
  {
   "cell_type": "code",
   "execution_count": null,
   "metadata": {},
   "outputs": [],
   "source": [
    "#list drugs to examine\n",
    "drugList = [\"Capomulin\", \"Infubinol\", \"Ketapril\", \"Placebo\"]\n",
    "#list timepoints\n",
    "timepoints = np.arange(0, 50, 5)\n",
    "\n",
    "#list tumor vol avg by drug and timepoint\n",
    "tumorVolAvg = drugAvgs[\"Tumor Volume (mm3)\"]\n",
    "#separate tumor vol avg list by drug\n",
    "capo_tumorVolAvg = tumorVolAvg.loc[\"Capomulin\", :]\n",
    "infu_tumorVolAvg = tumorVolAvg.loc[\"Infubinol\", :]\n",
    "keta_tumorVolAvg = tumorVolAvg.loc[\"Ketapril\", :]\n",
    "plac_tumorVolAvg = tumorVolAvg.loc[\"Placebo\", :]\n",
    "\n",
    "#plot each drug's tumor vol avg over time\n",
    "capo_tumorVolAvgPlot = plt.scatter(timepoints, capo_tumorVolAvg, marker = \"D\", label = \"Capomulin\", alpha = .75)\n",
    "infu_tumorVolAvgPlot = plt.scatter(timepoints, infu_tumorVolAvg, marker = \"s\", label = \"Infubinol\", alpha = .75)\n",
    "keta_tumorVolAvgPlot = plt.scatter(timepoints, keta_tumorVolAvg, marker = \"o\", label = \"Ketapril\", alpha = .75)\n",
    "plac_tumorVolAvgPlot = plt.scatter(timepoints, plac_tumorVolAvg, marker = \"X\", label = \"Placebo\", alpha = .75)\n",
    "\n",
    "#formatting and titles\n",
    "plt.hlines(45, 0, 45, alpha=0.25)\n",
    "plt.title(\"Average Tumor Volume Over Treatment\")\n",
    "plt.xlabel(\"Days\")\n",
    "plt.ylabel(\"Tumor Volume (mm^3)\")\n",
    "plt.legend(loc=\"best\")\n",
    "plt.tight_layout()\n",
    "plt.show()"
   ]
  },
  {
   "cell_type": "code",
   "execution_count": null,
   "metadata": {},
   "outputs": [],
   "source": [
    "#find std errors for each drug and timepoint\n",
    "tumorStdErrors = [stats.sem(drugData.loc[(drugData[\"Drug\"] == drug) \n",
    "                                         & (drugData[\"Timepoint\"] == time), \"Tumor Volume (mm3)\"]) \n",
    "                  for drug in drugList for time in timepoints]\n",
    "\n",
    "#separate std errors by drug\n",
    "capo_tumorStdErrors = [tumorStdErrors[i] for i in range(10)]\n",
    "infu_tumorStdErrors = [tumorStdErrors[i] for i in range(10, 20)]\n",
    "keta_tumorStdErrors = [tumorStdErrors[i] for i in range(20, 30)]\n",
    "plac_tumorStdErrors = [tumorStdErrors[i] for i in range(30, 40)]\n",
    "\n",
    "#plot tumor vol avg with std error bars\n",
    "capo_tumorErrorPlot = plt.errorbar(timepoints, capo_tumorVolAvg, capo_tumorStdErrors, marker = \"D\", linestyle=\"None\", label = \"Capomulin\", alpha = .75)\n",
    "infu_tumorErrorPlot = plt.errorbar(timepoints, infu_tumorVolAvg, infu_tumorStdErrors, marker = \"s\", linestyle=\"None\", label = \"Infubinol\", alpha = .75)\n",
    "keta_tumorErrorPlot = plt.errorbar(timepoints, keta_tumorVolAvg, keta_tumorStdErrors, marker = \"o\", linestyle=\"None\", label = \"Ketapril\", alpha = .75)\n",
    "plac_tumorErrorPlot = plt.errorbar(timepoints, plac_tumorVolAvg, plac_tumorStdErrors, marker = \"X\", linestyle=\"None\", label = \"Placebo\", alpha = .75)\n",
    "\n",
    "#formatting and titles\n",
    "plt.hlines(45, 0, 45, alpha=0.25)\n",
    "plt.title(\"Average Tumor Volume Over Treatment\")\n",
    "plt.xlabel(\"Days\")\n",
    "plt.ylabel(\"Tumor Volume (mm^3)\")\n",
    "plt.legend(loc=\"best\")\n",
    "plt.tight_layout()\n",
    "plt.show()"
   ]
  },
  {
   "cell_type": "markdown",
   "metadata": {},
   "source": [
    "# Metastatic Response to Treatment"
   ]
  },
  {
   "cell_type": "code",
   "execution_count": null,
   "metadata": {},
   "outputs": [],
   "source": [
    "#list metastatic sites avg by drug and timepoint \n",
    "metastaticAvg = drugAvgs[\"Metastatic Sites\"]\n",
    "\n",
    "#separate metastatic avg list by drug\n",
    "capo_metastaticAvg = metastaticAvg.loc[\"Capomulin\", :]\n",
    "infu_metastaticAvg = metastaticAvg.loc[\"Infubinol\", :]\n",
    "keta_metastaticAvg = metastaticAvg.loc[\"Ketapril\", :]\n",
    "plac_metastaticAvg = metastaticAvg.loc[\"Placebo\", :]\n",
    "\n",
    "#plot metastatic avg over time\n",
    "capo_metastaticAvgPlot = plt.scatter(timepoints, capo_metastaticAvg, marker = \"D\", label = \"Capomulin\", alpha = .75)\n",
    "infu_metastaticAvgPlot = plt.scatter(timepoints, infu_metastaticAvg, marker = \"s\", label = \"Infubinol\", alpha = .75)\n",
    "keta_metastaticAvgPlot = plt.scatter(timepoints, keta_metastaticAvg, marker = \"o\", label = \"Ketapril\", alpha = .75)\n",
    "plac_metastaticAvgPlot = plt.scatter(timepoints, plac_metastaticAvg, marker = \"X\", label = \"Placebo\", alpha = .75)\n",
    "\n",
    "#formatting and titles\n",
    "plt.title(\"Average Metastic Sites Over Treatment\")\n",
    "plt.xlabel(\"Days\")\n",
    "plt.ylabel(\"Metastic Sites\")\n",
    "plt.legend(loc=\"best\")\n",
    "plt.grid(alpha = .4)\n",
    "plt.tight_layout()\n",
    "plt.show()"
   ]
  },
  {
   "cell_type": "code",
   "execution_count": null,
   "metadata": {},
   "outputs": [],
   "source": [
    "#find std errors for each drug and timepoint\n",
    "metastaticStdErrors = [stats.sem(drugData.loc[(drugData[\"Drug\"] == drug) \n",
    "                                         & (drugData[\"Timepoint\"] == time), \"Metastatic Sites\"]) \n",
    "                  for drug in drugList for time in timepoints]\n",
    "\n",
    "#separate std errors by drug\n",
    "capo_metastaticStdErrors = [metastaticStdErrors[i] for i in range(10)]\n",
    "infu_metastaticStdErrors = [metastaticStdErrors[i] for i in range(10, 20)]\n",
    "keta_metastaticStdErrors = [metastaticStdErrors[i] for i in range(20, 30)]\n",
    "plac_metastaticStdErrors = [metastaticStdErrors[i] for i in range(30, 40)]\n",
    "\n",
    "#plot metastatic avg with error bars\n",
    "capo_metastaticErrorPlot = plt.errorbar(timepoints, capo_metastaticAvg, capo_metastaticStdErrors, marker = \"D\", linestyle=\"None\", label = \"Capomulin\", alpha = .75)\n",
    "infu_metastaticErrorPlot = plt.errorbar(timepoints, infu_metastaticAvg, infu_metastaticStdErrors, marker = \"s\", linestyle=\"None\", label = \"Infubinol\", alpha = .75)\n",
    "keta_metastaticErrorPlot = plt.errorbar(timepoints, keta_metastaticAvg, keta_metastaticStdErrors, marker = \"o\", linestyle=\"None\", label = \"Ketapril\", alpha = .75)\n",
    "plac_metastaticErrorPlot = plt.errorbar(timepoints, plac_metastaticAvg, plac_metastaticStdErrors, marker = \"X\", linestyle=\"None\", label = \"Placebo\", alpha = .75)\n",
    "\n",
    "#formatting and titles\n",
    "plt.title(\"Average Tumor Volume Over Treatment\")\n",
    "plt.xlabel(\"Days\")\n",
    "plt.ylabel(\"Tumor Volume (mm^3)\")\n",
    "plt.legend(loc=\"best\")\n",
    "plt.grid(alpha = .4)\n",
    "plt.tight_layout()\n",
    "plt.show()"
   ]
  },
  {
   "cell_type": "markdown",
   "metadata": {},
   "source": [
    "# Survival Rates"
   ]
  },
  {
   "cell_type": "code",
   "execution_count": null,
   "metadata": {},
   "outputs": [],
   "source": [
    "#find mouse count\n",
    "drugCounts = groupedDrugData.count()\n",
    "mouseCounts = drugCounts[\"Mouse ID\"]\n",
    "#list mouse count by drug and timepoint\n",
    "mouseCounts = pd.DataFrame(mouseCounts)\n",
    "mouseCounts = mouseCounts.rename(columns={\"Mouse ID\": \"Mouse Count\"})\n",
    "mouseCounts.head(15)"
   ]
  },
  {
   "cell_type": "code",
   "execution_count": null,
   "metadata": {},
   "outputs": [],
   "source": [
    "#separate mouse count list by drug\n",
    "capo_mouseCounts = mouseCounts.loc[\"Capomulin\", :]\n",
    "infu_mouseCounts = mouseCounts.loc[\"Infubinol\", :]\n",
    "keta_mouseCounts = mouseCounts.loc[\"Ketapril\", :]\n",
    "plac_mouseCounts = mouseCounts.loc[\"Placebo\", :]\n",
    "\n",
    "#convert mouse counts to % of starting mice\n",
    "capo_survivalPerc = capo_mouseCounts / capo_mouseCounts.iloc[0, 0] * 100\n",
    "infu_survivalPerc = infu_mouseCounts / infu_mouseCounts.iloc[0, 0] * 100\n",
    "keta_survivalPerc = keta_mouseCounts / keta_mouseCounts.iloc[0, 0] * 100\n",
    "plac_survivalPerc = plac_mouseCounts / plac_mouseCounts.iloc[0, 0] * 100\n",
    "\n",
    "#plot each drug's mouse count over time\n",
    "capo_tumorVolAvgPlot = plt.scatter(timepoints, capo_survivalPerc, marker = \"D\", label = \"Capomulin\", alpha = .75)\n",
    "infu_tumorVolAvgPlot = plt.scatter(timepoints, infu_survivalPerc, marker = \"s\", label = \"Infubinol\", alpha = .75)\n",
    "keta_tumorVolAvgPlot = plt.scatter(timepoints, keta_survivalPerc, marker = \"o\", label = \"Ketapril\", alpha = .75)\n",
    "plac_tumorVolAvgPlot = plt.scatter(timepoints, plac_survivalPerc, marker = \"X\", label = \"Placebo\", alpha = .75)\n",
    "\n",
    "#formatting and titles\n",
    "plt.title(\"Survival Rate Over Treatment\")\n",
    "plt.xlabel(\"Days\")\n",
    "plt.ylabel(\"Survival Rate (%)\")\n",
    "plt.legend(loc=\"best\")\n",
    "plt.grid(alpha = .4)\n",
    "plt.tight_layout()\n",
    "plt.show()"
   ]
  },
  {
   "cell_type": "markdown",
   "metadata": {},
   "source": [
    "# Summary Bar Graph"
   ]
  },
  {
   "cell_type": "code",
   "execution_count": null,
   "metadata": {},
   "outputs": [],
   "source": [
    "#calculate tumor % change\n",
    "capo_tumorPercChange = (capo_tumorVolAvg[9] / capo_tumorVolAvg[0] * 100) - 100\n",
    "infu_tumorPercChange = (infu_tumorVolAvg[9] / infu_tumorVolAvg[0] * 100) - 100\n",
    "keta_tumorPercChange = (keta_tumorVolAvg[9] / keta_tumorVolAvg[0] * 100) - 100\n",
    "plac_tumorPercChange = (plac_tumorVolAvg[9] / plac_tumorVolAvg[0] * 100) - 100\n",
    "\n",
    "#list tumor % changes\n",
    "tumorPercList = [capo_tumorPercChange, infu_tumorPercChange, keta_tumorPercChange, plac_tumorPercChange]\n",
    "\n",
    "#create table with drug and tumor % change\n",
    "tumorPercTable = pd.DataFrame({\"Drug\": drugList, \"Tumor Percent Change\": tumorPercList})\n",
    "tumorPercTable"
   ]
  },
  {
   "cell_type": "code",
   "execution_count": null,
   "metadata": {},
   "outputs": [],
   "source": [
    "#plot tumor % table as bar chart\n",
    "tumorBarChart = plt.bar(tumorPercTable[\"Drug\"], tumorPercTable[\"Tumor Percent Change\"])\n",
    "\n",
    "#format color and position of text based on positive or negative change\n",
    "for i in range(len(drugList)):\n",
    "    if tumorPercList[i] < 0:\n",
    "        tumorBarChart[i].set_color(\"limegreen\")\n",
    "        percText = format(tumorPercList[i] / 100, \".2%\")\n",
    "        plt.text(-.2 + i, -5, percText)\n",
    "    else:\n",
    "        tumorBarChart[i].set_color(\"firebrick\")\n",
    "        percText = format(tumorPercList[i] / 100, \".2%\")\n",
    "        plt.text(-.2 + i, 2, percText, color = \"w\")\n",
    "        \n",
    "#formatting and titles\n",
    "plt.hlines(0, -.5, 3.5, alpha=0.25)\n",
    "plt.xlim(-.5, 3.5)\n",
    "plt.title(\"Tumor Percent Total Change by Drug\")\n",
    "plt.xlabel(\"Drug\")\n",
    "plt.ylabel(\"Tumor Percent Change (%)\")\n",
    "plt.tight_layout()\n",
    "plt.show()"
   ]
  },
  {
   "cell_type": "code",
   "execution_count": null,
   "metadata": {},
   "outputs": [],
   "source": []
  },
  {
   "cell_type": "code",
   "execution_count": null,
   "metadata": {},
   "outputs": [],
   "source": []
  },
  {
   "cell_type": "code",
   "execution_count": null,
   "metadata": {},
   "outputs": [],
   "source": []
  },
  {
   "cell_type": "code",
   "execution_count": null,
   "metadata": {},
   "outputs": [],
   "source": []
  }
 ],
 "metadata": {
  "kernelspec": {
   "display_name": "Python 3",
   "language": "python",
   "name": "python3"
  },
  "language_info": {
   "codemirror_mode": {
    "name": "ipython",
    "version": 3
   },
   "file_extension": ".py",
   "mimetype": "text/x-python",
   "name": "python",
   "nbconvert_exporter": "python",
   "pygments_lexer": "ipython3",
   "version": "3.7.3"
  }
 },
 "nbformat": 4,
 "nbformat_minor": 4
}
